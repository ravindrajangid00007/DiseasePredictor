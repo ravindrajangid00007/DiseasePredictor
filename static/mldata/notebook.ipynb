{
 "cells": [
  {
   "cell_type": "code",
   "execution_count": 1,
   "id": "arctic-namibia",
   "metadata": {
    "_cell_guid": "b1076dfc-b9ad-4769-8c92-a6c4dae69d19",
    "_uuid": "8f2839f25d086af736a60e9eeb907d3b93b6e0e5",
    "execution": {
     "iopub.execute_input": "2021-10-20T09:07:44.429432Z",
     "iopub.status.busy": "2021-10-20T09:07:44.428762Z",
     "iopub.status.idle": "2021-10-20T09:07:44.443705Z",
     "shell.execute_reply": "2021-10-20T09:07:44.442866Z",
     "shell.execute_reply.started": "2021-10-20T08:49:04.677979Z"
    },
    "papermill": {
     "duration": 0.055839,
     "end_time": "2021-10-20T09:07:44.444133",
     "exception": false,
     "start_time": "2021-10-20T09:07:44.388294",
     "status": "completed"
    },
    "tags": []
   },
   "outputs": [
    {
     "name": "stdout",
     "output_type": "stream",
     "text": [
      "/kaggle/input/disease-prediction-using-machine-learning/Training.csv\n",
      "/kaggle/input/disease-prediction-using-machine-learning/Testing.csv\n"
     ]
    }
   ],
   "source": [
    "# This Python 3 environment comes with many helpful analytics libraries installed\n",
    "# It is defined by the kaggle/python Docker image: https://github.com/kaggle/docker-python\n",
    "# For example, here's several helpful packages to load\n",
    "\n",
    "import numpy as np # linear algebra\n",
    "import pandas as pd # data processing, CSV file I/O (e.g. pd.read_csv)\n",
    "\n",
    "# Input data files are available in the read-only \"../input/\" directory\n",
    "# For example, running this (by clicking run or pressing Shift+Enter) will list all files under the input directory\n",
    "\n",
    "import os\n",
    "for dirname, _, filenames in os.walk('/kaggle/input'):\n",
    "    for filename in filenames:\n",
    "        print(os.path.join(dirname, filename))\n",
    "        \n",
    "import warnings\n",
    "warnings.filterwarnings('ignore')\n",
    "\n",
    "# You can write up to 20GB to the current directory (/kaggle/working/) that gets preserved as output when you create a version using \"Save & Run All\" \n",
    "# You can also write temporary files to /kaggle/temp/, but they won't be saved outside of the current session"
   ]
  },
  {
   "cell_type": "code",
   "execution_count": 2,
   "id": "constant-skating",
   "metadata": {
    "execution": {
     "iopub.execute_input": "2021-10-20T09:07:44.498730Z",
     "iopub.status.busy": "2021-10-20T09:07:44.498059Z",
     "iopub.status.idle": "2021-10-20T09:07:44.655418Z",
     "shell.execute_reply": "2021-10-20T09:07:44.655977Z",
     "shell.execute_reply.started": "2021-10-20T08:49:22.306574Z"
    },
    "papermill": {
     "duration": 0.186545,
     "end_time": "2021-10-20T09:07:44.656175",
     "exception": false,
     "start_time": "2021-10-20T09:07:44.469630",
     "status": "completed"
    },
    "tags": []
   },
   "outputs": [
    {
     "data": {
      "text/html": [
       "<div>\n",
       "<style scoped>\n",
       "    .dataframe tbody tr th:only-of-type {\n",
       "        vertical-align: middle;\n",
       "    }\n",
       "\n",
       "    .dataframe tbody tr th {\n",
       "        vertical-align: top;\n",
       "    }\n",
       "\n",
       "    .dataframe thead th {\n",
       "        text-align: right;\n",
       "    }\n",
       "</style>\n",
       "<table border=\"1\" class=\"dataframe\">\n",
       "  <thead>\n",
       "    <tr style=\"text-align: right;\">\n",
       "      <th></th>\n",
       "      <th>itching</th>\n",
       "      <th>skin_rash</th>\n",
       "      <th>nodal_skin_eruptions</th>\n",
       "      <th>continuous_sneezing</th>\n",
       "      <th>shivering</th>\n",
       "      <th>chills</th>\n",
       "      <th>joint_pain</th>\n",
       "      <th>stomach_pain</th>\n",
       "      <th>acidity</th>\n",
       "      <th>ulcers_on_tongue</th>\n",
       "      <th>...</th>\n",
       "      <th>scurring</th>\n",
       "      <th>skin_peeling</th>\n",
       "      <th>silver_like_dusting</th>\n",
       "      <th>small_dents_in_nails</th>\n",
       "      <th>inflammatory_nails</th>\n",
       "      <th>blister</th>\n",
       "      <th>red_sore_around_nose</th>\n",
       "      <th>yellow_crust_ooze</th>\n",
       "      <th>prognosis</th>\n",
       "      <th>Unnamed: 133</th>\n",
       "    </tr>\n",
       "  </thead>\n",
       "  <tbody>\n",
       "    <tr>\n",
       "      <th>0</th>\n",
       "      <td>1</td>\n",
       "      <td>1</td>\n",
       "      <td>1</td>\n",
       "      <td>0</td>\n",
       "      <td>0</td>\n",
       "      <td>0</td>\n",
       "      <td>0</td>\n",
       "      <td>0</td>\n",
       "      <td>0</td>\n",
       "      <td>0</td>\n",
       "      <td>...</td>\n",
       "      <td>0</td>\n",
       "      <td>0</td>\n",
       "      <td>0</td>\n",
       "      <td>0</td>\n",
       "      <td>0</td>\n",
       "      <td>0</td>\n",
       "      <td>0</td>\n",
       "      <td>0</td>\n",
       "      <td>Fungal infection</td>\n",
       "      <td>NaN</td>\n",
       "    </tr>\n",
       "    <tr>\n",
       "      <th>1</th>\n",
       "      <td>0</td>\n",
       "      <td>1</td>\n",
       "      <td>1</td>\n",
       "      <td>0</td>\n",
       "      <td>0</td>\n",
       "      <td>0</td>\n",
       "      <td>0</td>\n",
       "      <td>0</td>\n",
       "      <td>0</td>\n",
       "      <td>0</td>\n",
       "      <td>...</td>\n",
       "      <td>0</td>\n",
       "      <td>0</td>\n",
       "      <td>0</td>\n",
       "      <td>0</td>\n",
       "      <td>0</td>\n",
       "      <td>0</td>\n",
       "      <td>0</td>\n",
       "      <td>0</td>\n",
       "      <td>Fungal infection</td>\n",
       "      <td>NaN</td>\n",
       "    </tr>\n",
       "    <tr>\n",
       "      <th>2</th>\n",
       "      <td>1</td>\n",
       "      <td>0</td>\n",
       "      <td>1</td>\n",
       "      <td>0</td>\n",
       "      <td>0</td>\n",
       "      <td>0</td>\n",
       "      <td>0</td>\n",
       "      <td>0</td>\n",
       "      <td>0</td>\n",
       "      <td>0</td>\n",
       "      <td>...</td>\n",
       "      <td>0</td>\n",
       "      <td>0</td>\n",
       "      <td>0</td>\n",
       "      <td>0</td>\n",
       "      <td>0</td>\n",
       "      <td>0</td>\n",
       "      <td>0</td>\n",
       "      <td>0</td>\n",
       "      <td>Fungal infection</td>\n",
       "      <td>NaN</td>\n",
       "    </tr>\n",
       "    <tr>\n",
       "      <th>3</th>\n",
       "      <td>1</td>\n",
       "      <td>1</td>\n",
       "      <td>0</td>\n",
       "      <td>0</td>\n",
       "      <td>0</td>\n",
       "      <td>0</td>\n",
       "      <td>0</td>\n",
       "      <td>0</td>\n",
       "      <td>0</td>\n",
       "      <td>0</td>\n",
       "      <td>...</td>\n",
       "      <td>0</td>\n",
       "      <td>0</td>\n",
       "      <td>0</td>\n",
       "      <td>0</td>\n",
       "      <td>0</td>\n",
       "      <td>0</td>\n",
       "      <td>0</td>\n",
       "      <td>0</td>\n",
       "      <td>Fungal infection</td>\n",
       "      <td>NaN</td>\n",
       "    </tr>\n",
       "    <tr>\n",
       "      <th>4</th>\n",
       "      <td>1</td>\n",
       "      <td>1</td>\n",
       "      <td>1</td>\n",
       "      <td>0</td>\n",
       "      <td>0</td>\n",
       "      <td>0</td>\n",
       "      <td>0</td>\n",
       "      <td>0</td>\n",
       "      <td>0</td>\n",
       "      <td>0</td>\n",
       "      <td>...</td>\n",
       "      <td>0</td>\n",
       "      <td>0</td>\n",
       "      <td>0</td>\n",
       "      <td>0</td>\n",
       "      <td>0</td>\n",
       "      <td>0</td>\n",
       "      <td>0</td>\n",
       "      <td>0</td>\n",
       "      <td>Fungal infection</td>\n",
       "      <td>NaN</td>\n",
       "    </tr>\n",
       "  </tbody>\n",
       "</table>\n",
       "<p>5 rows × 134 columns</p>\n",
       "</div>"
      ],
      "text/plain": [
       "   itching  skin_rash  nodal_skin_eruptions  continuous_sneezing  shivering  \\\n",
       "0        1          1                     1                    0          0   \n",
       "1        0          1                     1                    0          0   \n",
       "2        1          0                     1                    0          0   \n",
       "3        1          1                     0                    0          0   \n",
       "4        1          1                     1                    0          0   \n",
       "\n",
       "   chills  joint_pain  stomach_pain  acidity  ulcers_on_tongue  ...  scurring  \\\n",
       "0       0           0             0        0                 0  ...         0   \n",
       "1       0           0             0        0                 0  ...         0   \n",
       "2       0           0             0        0                 0  ...         0   \n",
       "3       0           0             0        0                 0  ...         0   \n",
       "4       0           0             0        0                 0  ...         0   \n",
       "\n",
       "   skin_peeling  silver_like_dusting  small_dents_in_nails  \\\n",
       "0             0                    0                     0   \n",
       "1             0                    0                     0   \n",
       "2             0                    0                     0   \n",
       "3             0                    0                     0   \n",
       "4             0                    0                     0   \n",
       "\n",
       "   inflammatory_nails  blister  red_sore_around_nose  yellow_crust_ooze  \\\n",
       "0                   0        0                     0                  0   \n",
       "1                   0        0                     0                  0   \n",
       "2                   0        0                     0                  0   \n",
       "3                   0        0                     0                  0   \n",
       "4                   0        0                     0                  0   \n",
       "\n",
       "          prognosis  Unnamed: 133  \n",
       "0  Fungal infection           NaN  \n",
       "1  Fungal infection           NaN  \n",
       "2  Fungal infection           NaN  \n",
       "3  Fungal infection           NaN  \n",
       "4  Fungal infection           NaN  \n",
       "\n",
       "[5 rows x 134 columns]"
      ]
     },
     "execution_count": 2,
     "metadata": {},
     "output_type": "execute_result"
    }
   ],
   "source": [
    "train = pd.read_csv('/kaggle/input/disease-prediction-using-machine-learning/Training.csv')\n",
    "test= pd.read_csv('/kaggle/input/disease-prediction-using-machine-learning/Testing.csv')\n",
    "train.head()"
   ]
  },
  {
   "cell_type": "code",
   "execution_count": 3,
   "id": "genetic-telling",
   "metadata": {
    "execution": {
     "iopub.execute_input": "2021-10-20T09:07:44.727086Z",
     "iopub.status.busy": "2021-10-20T09:07:44.718180Z",
     "iopub.status.idle": "2021-10-20T09:07:44.731334Z",
     "shell.execute_reply": "2021-10-20T09:07:44.730793Z",
     "shell.execute_reply.started": "2021-10-20T08:53:42.358842Z"
    },
    "papermill": {
     "duration": 0.049841,
     "end_time": "2021-10-20T09:07:44.731506",
     "exception": false,
     "start_time": "2021-10-20T09:07:44.681665",
     "status": "completed"
    },
    "tags": []
   },
   "outputs": [
    {
     "data": {
      "text/html": [
       "<div>\n",
       "<style scoped>\n",
       "    .dataframe tbody tr th:only-of-type {\n",
       "        vertical-align: middle;\n",
       "    }\n",
       "\n",
       "    .dataframe tbody tr th {\n",
       "        vertical-align: top;\n",
       "    }\n",
       "\n",
       "    .dataframe thead th {\n",
       "        text-align: right;\n",
       "    }\n",
       "</style>\n",
       "<table border=\"1\" class=\"dataframe\">\n",
       "  <thead>\n",
       "    <tr style=\"text-align: right;\">\n",
       "      <th></th>\n",
       "      <th>itching</th>\n",
       "      <th>skin_rash</th>\n",
       "      <th>nodal_skin_eruptions</th>\n",
       "      <th>continuous_sneezing</th>\n",
       "      <th>shivering</th>\n",
       "      <th>chills</th>\n",
       "      <th>joint_pain</th>\n",
       "      <th>stomach_pain</th>\n",
       "      <th>acidity</th>\n",
       "      <th>ulcers_on_tongue</th>\n",
       "      <th>...</th>\n",
       "      <th>blackheads</th>\n",
       "      <th>scurring</th>\n",
       "      <th>skin_peeling</th>\n",
       "      <th>silver_like_dusting</th>\n",
       "      <th>small_dents_in_nails</th>\n",
       "      <th>inflammatory_nails</th>\n",
       "      <th>blister</th>\n",
       "      <th>red_sore_around_nose</th>\n",
       "      <th>yellow_crust_ooze</th>\n",
       "      <th>prognosis</th>\n",
       "    </tr>\n",
       "  </thead>\n",
       "  <tbody>\n",
       "    <tr>\n",
       "      <th>0</th>\n",
       "      <td>1</td>\n",
       "      <td>1</td>\n",
       "      <td>1</td>\n",
       "      <td>0</td>\n",
       "      <td>0</td>\n",
       "      <td>0</td>\n",
       "      <td>0</td>\n",
       "      <td>0</td>\n",
       "      <td>0</td>\n",
       "      <td>0</td>\n",
       "      <td>...</td>\n",
       "      <td>0</td>\n",
       "      <td>0</td>\n",
       "      <td>0</td>\n",
       "      <td>0</td>\n",
       "      <td>0</td>\n",
       "      <td>0</td>\n",
       "      <td>0</td>\n",
       "      <td>0</td>\n",
       "      <td>0</td>\n",
       "      <td>Fungal infection</td>\n",
       "    </tr>\n",
       "    <tr>\n",
       "      <th>1</th>\n",
       "      <td>0</td>\n",
       "      <td>0</td>\n",
       "      <td>0</td>\n",
       "      <td>1</td>\n",
       "      <td>1</td>\n",
       "      <td>1</td>\n",
       "      <td>0</td>\n",
       "      <td>0</td>\n",
       "      <td>0</td>\n",
       "      <td>0</td>\n",
       "      <td>...</td>\n",
       "      <td>0</td>\n",
       "      <td>0</td>\n",
       "      <td>0</td>\n",
       "      <td>0</td>\n",
       "      <td>0</td>\n",
       "      <td>0</td>\n",
       "      <td>0</td>\n",
       "      <td>0</td>\n",
       "      <td>0</td>\n",
       "      <td>Allergy</td>\n",
       "    </tr>\n",
       "    <tr>\n",
       "      <th>2</th>\n",
       "      <td>0</td>\n",
       "      <td>0</td>\n",
       "      <td>0</td>\n",
       "      <td>0</td>\n",
       "      <td>0</td>\n",
       "      <td>0</td>\n",
       "      <td>0</td>\n",
       "      <td>1</td>\n",
       "      <td>1</td>\n",
       "      <td>1</td>\n",
       "      <td>...</td>\n",
       "      <td>0</td>\n",
       "      <td>0</td>\n",
       "      <td>0</td>\n",
       "      <td>0</td>\n",
       "      <td>0</td>\n",
       "      <td>0</td>\n",
       "      <td>0</td>\n",
       "      <td>0</td>\n",
       "      <td>0</td>\n",
       "      <td>GERD</td>\n",
       "    </tr>\n",
       "    <tr>\n",
       "      <th>3</th>\n",
       "      <td>1</td>\n",
       "      <td>0</td>\n",
       "      <td>0</td>\n",
       "      <td>0</td>\n",
       "      <td>0</td>\n",
       "      <td>0</td>\n",
       "      <td>0</td>\n",
       "      <td>0</td>\n",
       "      <td>0</td>\n",
       "      <td>0</td>\n",
       "      <td>...</td>\n",
       "      <td>0</td>\n",
       "      <td>0</td>\n",
       "      <td>0</td>\n",
       "      <td>0</td>\n",
       "      <td>0</td>\n",
       "      <td>0</td>\n",
       "      <td>0</td>\n",
       "      <td>0</td>\n",
       "      <td>0</td>\n",
       "      <td>Chronic cholestasis</td>\n",
       "    </tr>\n",
       "    <tr>\n",
       "      <th>4</th>\n",
       "      <td>1</td>\n",
       "      <td>1</td>\n",
       "      <td>0</td>\n",
       "      <td>0</td>\n",
       "      <td>0</td>\n",
       "      <td>0</td>\n",
       "      <td>0</td>\n",
       "      <td>1</td>\n",
       "      <td>0</td>\n",
       "      <td>0</td>\n",
       "      <td>...</td>\n",
       "      <td>0</td>\n",
       "      <td>0</td>\n",
       "      <td>0</td>\n",
       "      <td>0</td>\n",
       "      <td>0</td>\n",
       "      <td>0</td>\n",
       "      <td>0</td>\n",
       "      <td>0</td>\n",
       "      <td>0</td>\n",
       "      <td>Drug Reaction</td>\n",
       "    </tr>\n",
       "  </tbody>\n",
       "</table>\n",
       "<p>5 rows × 133 columns</p>\n",
       "</div>"
      ],
      "text/plain": [
       "   itching  skin_rash  nodal_skin_eruptions  continuous_sneezing  shivering  \\\n",
       "0        1          1                     1                    0          0   \n",
       "1        0          0                     0                    1          1   \n",
       "2        0          0                     0                    0          0   \n",
       "3        1          0                     0                    0          0   \n",
       "4        1          1                     0                    0          0   \n",
       "\n",
       "   chills  joint_pain  stomach_pain  acidity  ulcers_on_tongue  ...  \\\n",
       "0       0           0             0        0                 0  ...   \n",
       "1       1           0             0        0                 0  ...   \n",
       "2       0           0             1        1                 1  ...   \n",
       "3       0           0             0        0                 0  ...   \n",
       "4       0           0             1        0                 0  ...   \n",
       "\n",
       "   blackheads  scurring  skin_peeling  silver_like_dusting  \\\n",
       "0           0         0             0                    0   \n",
       "1           0         0             0                    0   \n",
       "2           0         0             0                    0   \n",
       "3           0         0             0                    0   \n",
       "4           0         0             0                    0   \n",
       "\n",
       "   small_dents_in_nails  inflammatory_nails  blister  red_sore_around_nose  \\\n",
       "0                     0                   0        0                     0   \n",
       "1                     0                   0        0                     0   \n",
       "2                     0                   0        0                     0   \n",
       "3                     0                   0        0                     0   \n",
       "4                     0                   0        0                     0   \n",
       "\n",
       "   yellow_crust_ooze            prognosis  \n",
       "0                  0     Fungal infection  \n",
       "1                  0              Allergy  \n",
       "2                  0                 GERD  \n",
       "3                  0  Chronic cholestasis  \n",
       "4                  0        Drug Reaction  \n",
       "\n",
       "[5 rows x 133 columns]"
      ]
     },
     "execution_count": 3,
     "metadata": {},
     "output_type": "execute_result"
    }
   ],
   "source": [
    "test.head()"
   ]
  },
  {
   "cell_type": "code",
   "execution_count": 4,
   "id": "seventh-picnic",
   "metadata": {
    "execution": {
     "iopub.execute_input": "2021-10-20T09:07:44.816751Z",
     "iopub.status.busy": "2021-10-20T09:07:44.815366Z",
     "iopub.status.idle": "2021-10-20T09:07:44.819587Z",
     "shell.execute_reply": "2021-10-20T09:07:44.820275Z",
     "shell.execute_reply.started": "2021-10-20T08:53:51.984948Z"
    },
    "papermill": {
     "duration": 0.050879,
     "end_time": "2021-10-20T09:07:44.820521",
     "exception": false,
     "start_time": "2021-10-20T09:07:44.769642",
     "status": "completed"
    },
    "tags": []
   },
   "outputs": [
    {
     "data": {
      "text/plain": [
       "(4920, 134)"
      ]
     },
     "execution_count": 4,
     "metadata": {},
     "output_type": "execute_result"
    }
   ],
   "source": [
    "train.shape"
   ]
  },
  {
   "cell_type": "code",
   "execution_count": 5,
   "id": "hundred-screw",
   "metadata": {
    "execution": {
     "iopub.execute_input": "2021-10-20T09:07:44.889975Z",
     "iopub.status.busy": "2021-10-20T09:07:44.889263Z",
     "iopub.status.idle": "2021-10-20T09:07:44.892271Z",
     "shell.execute_reply": "2021-10-20T09:07:44.893015Z",
     "shell.execute_reply.started": "2021-10-20T08:53:59.336174Z"
    },
    "papermill": {
     "duration": 0.040365,
     "end_time": "2021-10-20T09:07:44.893199",
     "exception": false,
     "start_time": "2021-10-20T09:07:44.852834",
     "status": "completed"
    },
    "tags": []
   },
   "outputs": [
    {
     "data": {
      "text/plain": [
       "(42, 133)"
      ]
     },
     "execution_count": 5,
     "metadata": {},
     "output_type": "execute_result"
    }
   ],
   "source": [
    "test.shape"
   ]
  },
  {
   "cell_type": "code",
   "execution_count": 6,
   "id": "conscious-maria",
   "metadata": {
    "execution": {
     "iopub.execute_input": "2021-10-20T09:07:44.964518Z",
     "iopub.status.busy": "2021-10-20T09:07:44.962823Z",
     "iopub.status.idle": "2021-10-20T09:07:44.971766Z",
     "shell.execute_reply": "2021-10-20T09:07:44.972476Z",
     "shell.execute_reply.started": "2021-10-20T08:54:06.592569Z"
    },
    "papermill": {
     "duration": 0.049583,
     "end_time": "2021-10-20T09:07:44.972682",
     "exception": false,
     "start_time": "2021-10-20T09:07:44.923099",
     "status": "completed"
    },
    "tags": []
   },
   "outputs": [
    {
     "data": {
      "text/plain": [
       "(4920, 133)"
      ]
     },
     "execution_count": 6,
     "metadata": {},
     "output_type": "execute_result"
    }
   ],
   "source": [
    "train.drop('Unnamed: 133', axis=1, inplace=True)\n",
    "train.shape"
   ]
  },
  {
   "cell_type": "code",
   "execution_count": 7,
   "id": "experienced-depth",
   "metadata": {
    "execution": {
     "iopub.execute_input": "2021-10-20T09:07:45.037795Z",
     "iopub.status.busy": "2021-10-20T09:07:45.036696Z",
     "iopub.status.idle": "2021-10-20T09:07:45.062351Z",
     "shell.execute_reply": "2021-10-20T09:07:45.063114Z",
     "shell.execute_reply.started": "2021-10-20T08:54:29.098143Z"
    },
    "papermill": {
     "duration": 0.062135,
     "end_time": "2021-10-20T09:07:45.063352",
     "exception": false,
     "start_time": "2021-10-20T09:07:45.001217",
     "status": "completed"
    },
    "tags": []
   },
   "outputs": [
    {
     "name": "stdout",
     "output_type": "stream",
     "text": [
      "<class 'pandas.core.frame.DataFrame'>\n",
      "RangeIndex: 4920 entries, 0 to 4919\n",
      "Columns: 133 entries, itching to prognosis\n",
      "dtypes: int64(132), object(1)\n",
      "memory usage: 5.0+ MB\n"
     ]
    }
   ],
   "source": [
    "train.info()"
   ]
  },
  {
   "cell_type": "code",
   "execution_count": 8,
   "id": "outer-soccer",
   "metadata": {
    "execution": {
     "iopub.execute_input": "2021-10-20T09:07:45.127721Z",
     "iopub.status.busy": "2021-10-20T09:07:45.126607Z",
     "iopub.status.idle": "2021-10-20T09:07:45.138745Z",
     "shell.execute_reply": "2021-10-20T09:07:45.139382Z",
     "shell.execute_reply.started": "2021-10-20T08:54:37.235010Z"
    },
    "papermill": {
     "duration": 0.047423,
     "end_time": "2021-10-20T09:07:45.139597",
     "exception": false,
     "start_time": "2021-10-20T09:07:45.092174",
     "status": "completed"
    },
    "tags": []
   },
   "outputs": [
    {
     "data": {
      "text/plain": [
       "itching                 0\n",
       "skin_rash               0\n",
       "nodal_skin_eruptions    0\n",
       "continuous_sneezing     0\n",
       "shivering               0\n",
       "                       ..\n",
       "inflammatory_nails      0\n",
       "blister                 0\n",
       "red_sore_around_nose    0\n",
       "yellow_crust_ooze       0\n",
       "prognosis               0\n",
       "Length: 133, dtype: int64"
      ]
     },
     "execution_count": 8,
     "metadata": {},
     "output_type": "execute_result"
    }
   ],
   "source": [
    "train.isna().sum()"
   ]
  },
  {
   "cell_type": "code",
   "execution_count": 9,
   "id": "wireless-boston",
   "metadata": {
    "execution": {
     "iopub.execute_input": "2021-10-20T09:07:45.204607Z",
     "iopub.status.busy": "2021-10-20T09:07:45.203546Z",
     "iopub.status.idle": "2021-10-20T09:07:45.260465Z",
     "shell.execute_reply": "2021-10-20T09:07:45.259921Z",
     "shell.execute_reply.started": "2021-10-20T08:54:40.959629Z"
    },
    "papermill": {
     "duration": 0.089834,
     "end_time": "2021-10-20T09:07:45.260635",
     "exception": false,
     "start_time": "2021-10-20T09:07:45.170801",
     "status": "completed"
    },
    "tags": []
   },
   "outputs": [
    {
     "data": {
      "text/plain": [
       "itching                  2\n",
       "skin_rash                2\n",
       "nodal_skin_eruptions     2\n",
       "continuous_sneezing      2\n",
       "shivering                2\n",
       "                        ..\n",
       "inflammatory_nails       2\n",
       "blister                  2\n",
       "red_sore_around_nose     2\n",
       "yellow_crust_ooze        2\n",
       "prognosis               41\n",
       "Length: 133, dtype: int64"
      ]
     },
     "execution_count": 9,
     "metadata": {},
     "output_type": "execute_result"
    }
   ],
   "source": [
    "train.nunique()"
   ]
  },
  {
   "cell_type": "code",
   "execution_count": 10,
   "id": "coated-population",
   "metadata": {
    "execution": {
     "iopub.execute_input": "2021-10-20T09:07:45.323714Z",
     "iopub.status.busy": "2021-10-20T09:07:45.323034Z",
     "iopub.status.idle": "2021-10-20T09:07:45.336504Z",
     "shell.execute_reply": "2021-10-20T09:07:45.335770Z",
     "shell.execute_reply.started": "2021-10-20T08:54:52.216513Z"
    },
    "papermill": {
     "duration": 0.047081,
     "end_time": "2021-10-20T09:07:45.336679",
     "exception": false,
     "start_time": "2021-10-20T09:07:45.289598",
     "status": "completed"
    },
    "tags": []
   },
   "outputs": [],
   "source": [
    "X_train= train.drop('prognosis', axis=1)\n",
    "X_test= test.drop('prognosis', axis=1)\n",
    "\n",
    "y_train= np.array(train['prognosis'])\n",
    "y_test= np.array(test['prognosis'])"
   ]
  },
  {
   "cell_type": "code",
   "execution_count": 11,
   "id": "optional-emperor",
   "metadata": {
    "execution": {
     "iopub.execute_input": "2021-10-20T09:07:45.399079Z",
     "iopub.status.busy": "2021-10-20T09:07:45.398358Z",
     "iopub.status.idle": "2021-10-20T09:07:45.403168Z",
     "shell.execute_reply": "2021-10-20T09:07:45.403694Z",
     "shell.execute_reply.started": "2021-10-20T08:55:15.935439Z"
    },
    "papermill": {
     "duration": 0.037107,
     "end_time": "2021-10-20T09:07:45.403878",
     "exception": false,
     "start_time": "2021-10-20T09:07:45.366771",
     "status": "completed"
    },
    "tags": []
   },
   "outputs": [
    {
     "data": {
      "text/plain": [
       "(4920,)"
      ]
     },
     "execution_count": 11,
     "metadata": {},
     "output_type": "execute_result"
    }
   ],
   "source": [
    "y_train.shape"
   ]
  },
  {
   "cell_type": "code",
   "execution_count": 12,
   "id": "comparable-surfing",
   "metadata": {
    "execution": {
     "iopub.execute_input": "2021-10-20T09:07:45.466817Z",
     "iopub.status.busy": "2021-10-20T09:07:45.466105Z",
     "iopub.status.idle": "2021-10-20T09:07:45.472646Z",
     "shell.execute_reply": "2021-10-20T09:07:45.473166Z",
     "shell.execute_reply.started": "2021-10-20T08:55:22.186175Z"
    },
    "papermill": {
     "duration": 0.039276,
     "end_time": "2021-10-20T09:07:45.473357",
     "exception": false,
     "start_time": "2021-10-20T09:07:45.434081",
     "status": "completed"
    },
    "tags": []
   },
   "outputs": [
    {
     "data": {
      "text/plain": [
       "(42,)"
      ]
     },
     "execution_count": 12,
     "metadata": {},
     "output_type": "execute_result"
    }
   ],
   "source": [
    "y_test.shape"
   ]
  },
  {
   "cell_type": "code",
   "execution_count": 13,
   "id": "prerequisite-payroll",
   "metadata": {
    "execution": {
     "iopub.execute_input": "2021-10-20T09:07:45.536637Z",
     "iopub.status.busy": "2021-10-20T09:07:45.535943Z",
     "iopub.status.idle": "2021-10-20T09:07:45.539255Z",
     "shell.execute_reply": "2021-10-20T09:07:45.539899Z",
     "shell.execute_reply.started": "2021-10-20T08:55:26.027903Z"
    },
    "papermill": {
     "duration": 0.038109,
     "end_time": "2021-10-20T09:07:45.540079",
     "exception": false,
     "start_time": "2021-10-20T09:07:45.501970",
     "status": "completed"
    },
    "tags": []
   },
   "outputs": [
    {
     "data": {
      "text/plain": [
       "(4920, 132)"
      ]
     },
     "execution_count": 13,
     "metadata": {},
     "output_type": "execute_result"
    }
   ],
   "source": [
    "X_train.shape"
   ]
  },
  {
   "cell_type": "code",
   "execution_count": 14,
   "id": "animal-runner",
   "metadata": {
    "execution": {
     "iopub.execute_input": "2021-10-20T09:07:45.599040Z",
     "iopub.status.busy": "2021-10-20T09:07:45.598334Z",
     "iopub.status.idle": "2021-10-20T09:07:45.604140Z",
     "shell.execute_reply": "2021-10-20T09:07:45.604798Z",
     "shell.execute_reply.started": "2021-10-20T08:55:26.063188Z"
    },
    "papermill": {
     "duration": 0.036974,
     "end_time": "2021-10-20T09:07:45.604996",
     "exception": false,
     "start_time": "2021-10-20T09:07:45.568022",
     "status": "completed"
    },
    "tags": []
   },
   "outputs": [
    {
     "data": {
      "text/plain": [
       "(42, 132)"
      ]
     },
     "execution_count": 14,
     "metadata": {},
     "output_type": "execute_result"
    }
   ],
   "source": [
    "X_test.shape"
   ]
  },
  {
   "cell_type": "code",
   "execution_count": 15,
   "id": "german-yemen",
   "metadata": {
    "execution": {
     "iopub.execute_input": "2021-10-20T09:07:45.668203Z",
     "iopub.status.busy": "2021-10-20T09:07:45.667440Z",
     "iopub.status.idle": "2021-10-20T09:07:45.697769Z",
     "shell.execute_reply": "2021-10-20T09:07:45.698428Z",
     "shell.execute_reply.started": "2021-10-20T08:55:45.596452Z"
    },
    "papermill": {
     "duration": 0.065253,
     "end_time": "2021-10-20T09:07:45.698695",
     "exception": false,
     "start_time": "2021-10-20T09:07:45.633442",
     "status": "completed"
    },
    "tags": []
   },
   "outputs": [
    {
     "data": {
      "text/html": [
       "<div>\n",
       "<style scoped>\n",
       "    .dataframe tbody tr th:only-of-type {\n",
       "        vertical-align: middle;\n",
       "    }\n",
       "\n",
       "    .dataframe tbody tr th {\n",
       "        vertical-align: top;\n",
       "    }\n",
       "\n",
       "    .dataframe thead th {\n",
       "        text-align: right;\n",
       "    }\n",
       "</style>\n",
       "<table border=\"1\" class=\"dataframe\">\n",
       "  <thead>\n",
       "    <tr style=\"text-align: right;\">\n",
       "      <th></th>\n",
       "      <th>(vertigo) Paroymsal  Positional Vertigo</th>\n",
       "      <th>AIDS</th>\n",
       "      <th>Acne</th>\n",
       "      <th>Alcoholic hepatitis</th>\n",
       "      <th>Allergy</th>\n",
       "      <th>Arthritis</th>\n",
       "      <th>Bronchial Asthma</th>\n",
       "      <th>Cervical spondylosis</th>\n",
       "      <th>Chicken pox</th>\n",
       "      <th>Chronic cholestasis</th>\n",
       "      <th>...</th>\n",
       "      <th>Osteoarthristis</th>\n",
       "      <th>Paralysis (brain hemorrhage)</th>\n",
       "      <th>Peptic ulcer diseae</th>\n",
       "      <th>Pneumonia</th>\n",
       "      <th>Psoriasis</th>\n",
       "      <th>Tuberculosis</th>\n",
       "      <th>Typhoid</th>\n",
       "      <th>Urinary tract infection</th>\n",
       "      <th>Varicose veins</th>\n",
       "      <th>hepatitis A</th>\n",
       "    </tr>\n",
       "  </thead>\n",
       "  <tbody>\n",
       "    <tr>\n",
       "      <th>0</th>\n",
       "      <td>0</td>\n",
       "      <td>0</td>\n",
       "      <td>0</td>\n",
       "      <td>0</td>\n",
       "      <td>0</td>\n",
       "      <td>0</td>\n",
       "      <td>0</td>\n",
       "      <td>0</td>\n",
       "      <td>0</td>\n",
       "      <td>0</td>\n",
       "      <td>...</td>\n",
       "      <td>0</td>\n",
       "      <td>0</td>\n",
       "      <td>0</td>\n",
       "      <td>0</td>\n",
       "      <td>0</td>\n",
       "      <td>0</td>\n",
       "      <td>0</td>\n",
       "      <td>0</td>\n",
       "      <td>0</td>\n",
       "      <td>0</td>\n",
       "    </tr>\n",
       "    <tr>\n",
       "      <th>1</th>\n",
       "      <td>0</td>\n",
       "      <td>0</td>\n",
       "      <td>0</td>\n",
       "      <td>0</td>\n",
       "      <td>0</td>\n",
       "      <td>0</td>\n",
       "      <td>0</td>\n",
       "      <td>0</td>\n",
       "      <td>0</td>\n",
       "      <td>0</td>\n",
       "      <td>...</td>\n",
       "      <td>0</td>\n",
       "      <td>0</td>\n",
       "      <td>0</td>\n",
       "      <td>0</td>\n",
       "      <td>0</td>\n",
       "      <td>0</td>\n",
       "      <td>0</td>\n",
       "      <td>0</td>\n",
       "      <td>0</td>\n",
       "      <td>0</td>\n",
       "    </tr>\n",
       "    <tr>\n",
       "      <th>2</th>\n",
       "      <td>0</td>\n",
       "      <td>0</td>\n",
       "      <td>0</td>\n",
       "      <td>0</td>\n",
       "      <td>0</td>\n",
       "      <td>0</td>\n",
       "      <td>0</td>\n",
       "      <td>0</td>\n",
       "      <td>0</td>\n",
       "      <td>0</td>\n",
       "      <td>...</td>\n",
       "      <td>0</td>\n",
       "      <td>0</td>\n",
       "      <td>0</td>\n",
       "      <td>0</td>\n",
       "      <td>0</td>\n",
       "      <td>0</td>\n",
       "      <td>0</td>\n",
       "      <td>0</td>\n",
       "      <td>0</td>\n",
       "      <td>0</td>\n",
       "    </tr>\n",
       "    <tr>\n",
       "      <th>3</th>\n",
       "      <td>0</td>\n",
       "      <td>0</td>\n",
       "      <td>0</td>\n",
       "      <td>0</td>\n",
       "      <td>0</td>\n",
       "      <td>0</td>\n",
       "      <td>0</td>\n",
       "      <td>0</td>\n",
       "      <td>0</td>\n",
       "      <td>0</td>\n",
       "      <td>...</td>\n",
       "      <td>0</td>\n",
       "      <td>0</td>\n",
       "      <td>0</td>\n",
       "      <td>0</td>\n",
       "      <td>0</td>\n",
       "      <td>0</td>\n",
       "      <td>0</td>\n",
       "      <td>0</td>\n",
       "      <td>0</td>\n",
       "      <td>0</td>\n",
       "    </tr>\n",
       "    <tr>\n",
       "      <th>4</th>\n",
       "      <td>0</td>\n",
       "      <td>0</td>\n",
       "      <td>0</td>\n",
       "      <td>0</td>\n",
       "      <td>0</td>\n",
       "      <td>0</td>\n",
       "      <td>0</td>\n",
       "      <td>0</td>\n",
       "      <td>0</td>\n",
       "      <td>0</td>\n",
       "      <td>...</td>\n",
       "      <td>0</td>\n",
       "      <td>0</td>\n",
       "      <td>0</td>\n",
       "      <td>0</td>\n",
       "      <td>0</td>\n",
       "      <td>0</td>\n",
       "      <td>0</td>\n",
       "      <td>0</td>\n",
       "      <td>0</td>\n",
       "      <td>0</td>\n",
       "    </tr>\n",
       "    <tr>\n",
       "      <th>...</th>\n",
       "      <td>...</td>\n",
       "      <td>...</td>\n",
       "      <td>...</td>\n",
       "      <td>...</td>\n",
       "      <td>...</td>\n",
       "      <td>...</td>\n",
       "      <td>...</td>\n",
       "      <td>...</td>\n",
       "      <td>...</td>\n",
       "      <td>...</td>\n",
       "      <td>...</td>\n",
       "      <td>...</td>\n",
       "      <td>...</td>\n",
       "      <td>...</td>\n",
       "      <td>...</td>\n",
       "      <td>...</td>\n",
       "      <td>...</td>\n",
       "      <td>...</td>\n",
       "      <td>...</td>\n",
       "      <td>...</td>\n",
       "      <td>...</td>\n",
       "    </tr>\n",
       "    <tr>\n",
       "      <th>4915</th>\n",
       "      <td>1</td>\n",
       "      <td>0</td>\n",
       "      <td>0</td>\n",
       "      <td>0</td>\n",
       "      <td>0</td>\n",
       "      <td>0</td>\n",
       "      <td>0</td>\n",
       "      <td>0</td>\n",
       "      <td>0</td>\n",
       "      <td>0</td>\n",
       "      <td>...</td>\n",
       "      <td>0</td>\n",
       "      <td>0</td>\n",
       "      <td>0</td>\n",
       "      <td>0</td>\n",
       "      <td>0</td>\n",
       "      <td>0</td>\n",
       "      <td>0</td>\n",
       "      <td>0</td>\n",
       "      <td>0</td>\n",
       "      <td>0</td>\n",
       "    </tr>\n",
       "    <tr>\n",
       "      <th>4916</th>\n",
       "      <td>0</td>\n",
       "      <td>0</td>\n",
       "      <td>1</td>\n",
       "      <td>0</td>\n",
       "      <td>0</td>\n",
       "      <td>0</td>\n",
       "      <td>0</td>\n",
       "      <td>0</td>\n",
       "      <td>0</td>\n",
       "      <td>0</td>\n",
       "      <td>...</td>\n",
       "      <td>0</td>\n",
       "      <td>0</td>\n",
       "      <td>0</td>\n",
       "      <td>0</td>\n",
       "      <td>0</td>\n",
       "      <td>0</td>\n",
       "      <td>0</td>\n",
       "      <td>0</td>\n",
       "      <td>0</td>\n",
       "      <td>0</td>\n",
       "    </tr>\n",
       "    <tr>\n",
       "      <th>4917</th>\n",
       "      <td>0</td>\n",
       "      <td>0</td>\n",
       "      <td>0</td>\n",
       "      <td>0</td>\n",
       "      <td>0</td>\n",
       "      <td>0</td>\n",
       "      <td>0</td>\n",
       "      <td>0</td>\n",
       "      <td>0</td>\n",
       "      <td>0</td>\n",
       "      <td>...</td>\n",
       "      <td>0</td>\n",
       "      <td>0</td>\n",
       "      <td>0</td>\n",
       "      <td>0</td>\n",
       "      <td>0</td>\n",
       "      <td>0</td>\n",
       "      <td>0</td>\n",
       "      <td>1</td>\n",
       "      <td>0</td>\n",
       "      <td>0</td>\n",
       "    </tr>\n",
       "    <tr>\n",
       "      <th>4918</th>\n",
       "      <td>0</td>\n",
       "      <td>0</td>\n",
       "      <td>0</td>\n",
       "      <td>0</td>\n",
       "      <td>0</td>\n",
       "      <td>0</td>\n",
       "      <td>0</td>\n",
       "      <td>0</td>\n",
       "      <td>0</td>\n",
       "      <td>0</td>\n",
       "      <td>...</td>\n",
       "      <td>0</td>\n",
       "      <td>0</td>\n",
       "      <td>0</td>\n",
       "      <td>0</td>\n",
       "      <td>1</td>\n",
       "      <td>0</td>\n",
       "      <td>0</td>\n",
       "      <td>0</td>\n",
       "      <td>0</td>\n",
       "      <td>0</td>\n",
       "    </tr>\n",
       "    <tr>\n",
       "      <th>4919</th>\n",
       "      <td>0</td>\n",
       "      <td>0</td>\n",
       "      <td>0</td>\n",
       "      <td>0</td>\n",
       "      <td>0</td>\n",
       "      <td>0</td>\n",
       "      <td>0</td>\n",
       "      <td>0</td>\n",
       "      <td>0</td>\n",
       "      <td>0</td>\n",
       "      <td>...</td>\n",
       "      <td>0</td>\n",
       "      <td>0</td>\n",
       "      <td>0</td>\n",
       "      <td>0</td>\n",
       "      <td>0</td>\n",
       "      <td>0</td>\n",
       "      <td>0</td>\n",
       "      <td>0</td>\n",
       "      <td>0</td>\n",
       "      <td>0</td>\n",
       "    </tr>\n",
       "  </tbody>\n",
       "</table>\n",
       "<p>4920 rows × 41 columns</p>\n",
       "</div>"
      ],
      "text/plain": [
       "      (vertigo) Paroymsal  Positional Vertigo  AIDS  Acne  \\\n",
       "0                                           0     0     0   \n",
       "1                                           0     0     0   \n",
       "2                                           0     0     0   \n",
       "3                                           0     0     0   \n",
       "4                                           0     0     0   \n",
       "...                                       ...   ...   ...   \n",
       "4915                                        1     0     0   \n",
       "4916                                        0     0     1   \n",
       "4917                                        0     0     0   \n",
       "4918                                        0     0     0   \n",
       "4919                                        0     0     0   \n",
       "\n",
       "      Alcoholic hepatitis  Allergy  Arthritis  Bronchial Asthma  \\\n",
       "0                       0        0          0                 0   \n",
       "1                       0        0          0                 0   \n",
       "2                       0        0          0                 0   \n",
       "3                       0        0          0                 0   \n",
       "4                       0        0          0                 0   \n",
       "...                   ...      ...        ...               ...   \n",
       "4915                    0        0          0                 0   \n",
       "4916                    0        0          0                 0   \n",
       "4917                    0        0          0                 0   \n",
       "4918                    0        0          0                 0   \n",
       "4919                    0        0          0                 0   \n",
       "\n",
       "      Cervical spondylosis  Chicken pox  Chronic cholestasis  ...  \\\n",
       "0                        0            0                    0  ...   \n",
       "1                        0            0                    0  ...   \n",
       "2                        0            0                    0  ...   \n",
       "3                        0            0                    0  ...   \n",
       "4                        0            0                    0  ...   \n",
       "...                    ...          ...                  ...  ...   \n",
       "4915                     0            0                    0  ...   \n",
       "4916                     0            0                    0  ...   \n",
       "4917                     0            0                    0  ...   \n",
       "4918                     0            0                    0  ...   \n",
       "4919                     0            0                    0  ...   \n",
       "\n",
       "      Osteoarthristis  Paralysis (brain hemorrhage)  Peptic ulcer diseae  \\\n",
       "0                   0                             0                    0   \n",
       "1                   0                             0                    0   \n",
       "2                   0                             0                    0   \n",
       "3                   0                             0                    0   \n",
       "4                   0                             0                    0   \n",
       "...               ...                           ...                  ...   \n",
       "4915                0                             0                    0   \n",
       "4916                0                             0                    0   \n",
       "4917                0                             0                    0   \n",
       "4918                0                             0                    0   \n",
       "4919                0                             0                    0   \n",
       "\n",
       "      Pneumonia  Psoriasis  Tuberculosis  Typhoid  Urinary tract infection  \\\n",
       "0             0          0             0        0                        0   \n",
       "1             0          0             0        0                        0   \n",
       "2             0          0             0        0                        0   \n",
       "3             0          0             0        0                        0   \n",
       "4             0          0             0        0                        0   \n",
       "...         ...        ...           ...      ...                      ...   \n",
       "4915          0          0             0        0                        0   \n",
       "4916          0          0             0        0                        0   \n",
       "4917          0          0             0        0                        1   \n",
       "4918          0          1             0        0                        0   \n",
       "4919          0          0             0        0                        0   \n",
       "\n",
       "      Varicose veins  hepatitis A  \n",
       "0                  0            0  \n",
       "1                  0            0  \n",
       "2                  0            0  \n",
       "3                  0            0  \n",
       "4                  0            0  \n",
       "...              ...          ...  \n",
       "4915               0            0  \n",
       "4916               0            0  \n",
       "4917               0            0  \n",
       "4918               0            0  \n",
       "4919               0            0  \n",
       "\n",
       "[4920 rows x 41 columns]"
      ]
     },
     "execution_count": 15,
     "metadata": {},
     "output_type": "execute_result"
    }
   ],
   "source": [
    "y_train_enc= pd.get_dummies(y_train)\n",
    "y_train_enc"
   ]
  },
  {
   "cell_type": "code",
   "execution_count": 16,
   "id": "future-priority",
   "metadata": {
    "execution": {
     "iopub.execute_input": "2021-10-20T09:07:45.766457Z",
     "iopub.status.busy": "2021-10-20T09:07:45.765592Z",
     "iopub.status.idle": "2021-10-20T09:07:45.770866Z",
     "shell.execute_reply": "2021-10-20T09:07:45.772105Z",
     "shell.execute_reply.started": "2021-10-20T08:56:16.989588Z"
    },
    "papermill": {
     "duration": 0.041247,
     "end_time": "2021-10-20T09:07:45.772330",
     "exception": false,
     "start_time": "2021-10-20T09:07:45.731083",
     "status": "completed"
    },
    "tags": []
   },
   "outputs": [
    {
     "data": {
      "text/plain": [
       "(4920, 41)"
      ]
     },
     "execution_count": 16,
     "metadata": {},
     "output_type": "execute_result"
    }
   ],
   "source": [
    "y_train_enc.shape"
   ]
  },
  {
   "cell_type": "code",
   "execution_count": 17,
   "id": "genetic-things",
   "metadata": {
    "execution": {
     "iopub.execute_input": "2021-10-20T09:07:45.847065Z",
     "iopub.status.busy": "2021-10-20T09:07:45.843527Z",
     "iopub.status.idle": "2021-10-20T09:07:45.851374Z",
     "shell.execute_reply": "2021-10-20T09:07:45.852102Z",
     "shell.execute_reply.started": "2021-10-20T08:56:29.265739Z"
    },
    "papermill": {
     "duration": 0.046288,
     "end_time": "2021-10-20T09:07:45.852357",
     "exception": false,
     "start_time": "2021-10-20T09:07:45.806069",
     "status": "completed"
    },
    "tags": []
   },
   "outputs": [
    {
     "data": {
      "text/plain": [
       "['(vertigo) Paroymsal  Positional Vertigo',\n",
       " 'AIDS',\n",
       " 'Acne',\n",
       " 'Alcoholic hepatitis',\n",
       " 'Allergy',\n",
       " 'Arthritis',\n",
       " 'Bronchial Asthma',\n",
       " 'Cervical spondylosis',\n",
       " 'Chicken pox',\n",
       " 'Chronic cholestasis',\n",
       " 'Common Cold',\n",
       " 'Dengue',\n",
       " 'Diabetes ',\n",
       " 'Dimorphic hemmorhoids(piles)',\n",
       " 'Drug Reaction',\n",
       " 'Fungal infection',\n",
       " 'GERD',\n",
       " 'Gastroenteritis',\n",
       " 'Heart attack',\n",
       " 'Hepatitis B',\n",
       " 'Hepatitis C',\n",
       " 'Hepatitis D',\n",
       " 'Hepatitis E',\n",
       " 'Hypertension ',\n",
       " 'Hyperthyroidism',\n",
       " 'Hypoglycemia',\n",
       " 'Hypothyroidism',\n",
       " 'Impetigo',\n",
       " 'Jaundice',\n",
       " 'Malaria',\n",
       " 'Migraine',\n",
       " 'Osteoarthristis',\n",
       " 'Paralysis (brain hemorrhage)',\n",
       " 'Peptic ulcer diseae',\n",
       " 'Pneumonia',\n",
       " 'Psoriasis',\n",
       " 'Tuberculosis',\n",
       " 'Typhoid',\n",
       " 'Urinary tract infection',\n",
       " 'Varicose veins',\n",
       " 'hepatitis A']"
      ]
     },
     "execution_count": 17,
     "metadata": {},
     "output_type": "execute_result"
    }
   ],
   "source": [
    "y_train_enc.columns.to_list()"
   ]
  },
  {
   "cell_type": "code",
   "execution_count": 18,
   "id": "organized-spine",
   "metadata": {
    "execution": {
     "iopub.execute_input": "2021-10-20T09:07:45.920954Z",
     "iopub.status.busy": "2021-10-20T09:07:45.920257Z",
     "iopub.status.idle": "2021-10-20T09:07:45.923608Z",
     "shell.execute_reply": "2021-10-20T09:07:45.924171Z",
     "shell.execute_reply.started": "2021-10-20T08:56:40.275071Z"
    },
    "papermill": {
     "duration": 0.040089,
     "end_time": "2021-10-20T09:07:45.924359",
     "exception": false,
     "start_time": "2021-10-20T09:07:45.884270",
     "status": "completed"
    },
    "tags": []
   },
   "outputs": [],
   "source": [
    "y_test_enc= pd.get_dummies(y_test)"
   ]
  },
  {
   "cell_type": "code",
   "execution_count": 19,
   "id": "competent-combine",
   "metadata": {
    "execution": {
     "iopub.execute_input": "2021-10-20T09:07:45.993559Z",
     "iopub.status.busy": "2021-10-20T09:07:45.992842Z",
     "iopub.status.idle": "2021-10-20T09:07:52.962959Z",
     "shell.execute_reply": "2021-10-20T09:07:52.962274Z",
     "shell.execute_reply.started": "2021-10-20T08:56:46.073879Z"
    },
    "papermill": {
     "duration": 7.006316,
     "end_time": "2021-10-20T09:07:52.963110",
     "exception": false,
     "start_time": "2021-10-20T09:07:45.956794",
     "status": "completed"
    },
    "tags": []
   },
   "outputs": [],
   "source": [
    "import keras\n",
    "from keras.layers import Dense\n",
    "from keras.models import Sequential\n",
    "from keras.callbacks import EarlyStopping"
   ]
  },
  {
   "cell_type": "code",
   "execution_count": 20,
   "id": "consistent-regulation",
   "metadata": {
    "execution": {
     "iopub.execute_input": "2021-10-20T09:07:53.037458Z",
     "iopub.status.busy": "2021-10-20T09:07:53.036762Z",
     "iopub.status.idle": "2021-10-20T09:07:53.154474Z",
     "shell.execute_reply": "2021-10-20T09:07:53.153919Z",
     "shell.execute_reply.started": "2021-10-20T08:56:52.572322Z"
    },
    "papermill": {
     "duration": 0.159104,
     "end_time": "2021-10-20T09:07:53.154690",
     "exception": false,
     "start_time": "2021-10-20T09:07:52.995586",
     "status": "completed"
    },
    "tags": []
   },
   "outputs": [],
   "source": [
    "model= Sequential()\n",
    "model.add(Dense(64, activation='relu', input_shape= (X_train.shape[1], )))\n",
    "model.add(Dense(32, activation='relu'))\n",
    "model.add(Dense(16, activation='relu'))\n",
    "model.add(Dense(y_train_enc.shape[1], activation='softmax'))"
   ]
  },
  {
   "cell_type": "code",
   "execution_count": 21,
   "id": "seven-event",
   "metadata": {
    "execution": {
     "iopub.execute_input": "2021-10-20T09:07:53.220457Z",
     "iopub.status.busy": "2021-10-20T09:07:53.219786Z",
     "iopub.status.idle": "2021-10-20T09:07:53.225932Z",
     "shell.execute_reply": "2021-10-20T09:07:53.225325Z",
     "shell.execute_reply.started": "2021-10-20T08:56:54.273810Z"
    },
    "papermill": {
     "duration": 0.042035,
     "end_time": "2021-10-20T09:07:53.226098",
     "exception": false,
     "start_time": "2021-10-20T09:07:53.184063",
     "status": "completed"
    },
    "tags": []
   },
   "outputs": [
    {
     "name": "stdout",
     "output_type": "stream",
     "text": [
      "Model: \"sequential\"\n",
      "_________________________________________________________________\n",
      "Layer (type)                 Output Shape              Param #   \n",
      "=================================================================\n",
      "dense (Dense)                (None, 64)                8512      \n",
      "_________________________________________________________________\n",
      "dense_1 (Dense)              (None, 32)                2080      \n",
      "_________________________________________________________________\n",
      "dense_2 (Dense)              (None, 16)                528       \n",
      "_________________________________________________________________\n",
      "dense_3 (Dense)              (None, 41)                697       \n",
      "=================================================================\n",
      "Total params: 11,817\n",
      "Trainable params: 11,817\n",
      "Non-trainable params: 0\n",
      "_________________________________________________________________\n"
     ]
    }
   ],
   "source": [
    "model.summary()"
   ]
  },
  {
   "cell_type": "code",
   "execution_count": 22,
   "id": "studied-jason",
   "metadata": {
    "execution": {
     "iopub.execute_input": "2021-10-20T09:07:53.307375Z",
     "iopub.status.busy": "2021-10-20T09:07:53.303191Z",
     "iopub.status.idle": "2021-10-20T09:07:53.310406Z",
     "shell.execute_reply": "2021-10-20T09:07:53.309829Z",
     "shell.execute_reply.started": "2021-10-20T08:57:05.391401Z"
    },
    "papermill": {
     "duration": 0.051372,
     "end_time": "2021-10-20T09:07:53.310565",
     "exception": false,
     "start_time": "2021-10-20T09:07:53.259193",
     "status": "completed"
    },
    "tags": []
   },
   "outputs": [],
   "source": [
    "model.compile('adam', loss='categorical_crossentropy', metrics=['accuracy'])"
   ]
  },
  {
   "cell_type": "code",
   "execution_count": 23,
   "id": "solar-month",
   "metadata": {
    "execution": {
     "iopub.execute_input": "2021-10-20T09:07:53.375129Z",
     "iopub.status.busy": "2021-10-20T09:07:53.374082Z",
     "iopub.status.idle": "2021-10-20T09:07:55.780728Z",
     "shell.execute_reply": "2021-10-20T09:07:55.781279Z",
     "shell.execute_reply.started": "2021-10-20T08:57:20.136317Z"
    },
    "papermill": {
     "duration": 2.44058,
     "end_time": "2021-10-20T09:07:55.781867",
     "exception": false,
     "start_time": "2021-10-20T09:07:53.341287",
     "status": "completed"
    },
    "tags": []
   },
   "outputs": [
    {
     "name": "stdout",
     "output_type": "stream",
     "text": [
      "Epoch 1/30\n",
      "29/29 [==============================] - 1s 27ms/step - loss: 3.6458 - accuracy: 0.0542 - val_loss: 3.3812 - val_accuracy: 0.1707\n",
      "Epoch 2/30\n",
      "29/29 [==============================] - 0s 5ms/step - loss: 3.2876 - accuracy: 0.1900 - val_loss: 2.7152 - val_accuracy: 0.2439\n",
      "Epoch 3/30\n",
      "29/29 [==============================] - 0s 5ms/step - loss: 2.5777 - accuracy: 0.3029 - val_loss: 1.7722 - val_accuracy: 0.6341\n",
      "Epoch 4/30\n",
      "29/29 [==============================] - 0s 5ms/step - loss: 1.6570 - accuracy: 0.6884 - val_loss: 0.8415 - val_accuracy: 0.9268\n",
      "Epoch 5/30\n",
      "29/29 [==============================] - 0s 5ms/step - loss: 0.7760 - accuracy: 0.9290 - val_loss: 0.2627 - val_accuracy: 1.0000\n",
      "Epoch 6/30\n",
      "29/29 [==============================] - 0s 5ms/step - loss: 0.2782 - accuracy: 1.0000 - val_loss: 0.0747 - val_accuracy: 1.0000\n",
      "Epoch 7/30\n",
      "29/29 [==============================] - 0s 5ms/step - loss: 0.1051 - accuracy: 1.0000 - val_loss: 0.0304 - val_accuracy: 1.0000\n"
     ]
    },
    {
     "data": {
      "text/plain": [
       "<tensorflow.python.keras.callbacks.History at 0x7f2ab06a8510>"
      ]
     },
     "execution_count": 23,
     "metadata": {},
     "output_type": "execute_result"
    }
   ],
   "source": [
    "early_stopping_monitor= EarlyStopping(patience=2, monitor='val_accuracy')\n",
    "model.fit(X_train, y_train_enc, batch_size=120, epochs=30, validation_split=0.3, callbacks=[early_stopping_monitor])"
   ]
  },
  {
   "cell_type": "code",
   "execution_count": 24,
   "id": "domestic-multiple",
   "metadata": {
    "execution": {
     "iopub.execute_input": "2021-10-20T09:07:55.889843Z",
     "iopub.status.busy": "2021-10-20T09:07:55.888319Z",
     "iopub.status.idle": "2021-10-20T09:07:56.095453Z",
     "shell.execute_reply": "2021-10-20T09:07:56.096044Z",
     "shell.execute_reply.started": "2021-10-20T08:57:35.543125Z"
    },
    "papermill": {
     "duration": 0.259239,
     "end_time": "2021-10-20T09:07:56.096240",
     "exception": false,
     "start_time": "2021-10-20T09:07:55.837001",
     "status": "completed"
    },
    "tags": []
   },
   "outputs": [
    {
     "name": "stdout",
     "output_type": "stream",
     "text": [
      "5/5 [==============================] - 0s 2ms/step - loss: 0.0347 - accuracy: 1.0000\n"
     ]
    },
    {
     "data": {
      "text/plain": [
       "[0.03467436507344246, 1.0]"
      ]
     },
     "execution_count": 24,
     "metadata": {},
     "output_type": "execute_result"
    }
   ],
   "source": [
    "model.evaluate(X_test, y_test_enc, batch_size=1, steps=5)"
   ]
  },
  {
   "cell_type": "code",
   "execution_count": 25,
   "id": "parliamentary-background",
   "metadata": {
    "execution": {
     "iopub.execute_input": "2021-10-20T09:07:56.186003Z",
     "iopub.status.busy": "2021-10-20T09:07:56.185274Z",
     "iopub.status.idle": "2021-10-20T09:07:56.334123Z",
     "shell.execute_reply": "2021-10-20T09:07:56.332845Z",
     "shell.execute_reply.started": "2021-10-20T09:03:20.270830Z"
    },
    "papermill": {
     "duration": 0.197405,
     "end_time": "2021-10-20T09:07:56.334324",
     "exception": false,
     "start_time": "2021-10-20T09:07:56.136919",
     "status": "completed"
    },
    "tags": []
   },
   "outputs": [],
   "source": [
    "prediction= model.predict_classes(X_test)"
   ]
  },
  {
   "cell_type": "code",
   "execution_count": 26,
   "id": "super-course",
   "metadata": {
    "execution": {
     "iopub.execute_input": "2021-10-20T09:07:56.424048Z",
     "iopub.status.busy": "2021-10-20T09:07:56.422631Z",
     "iopub.status.idle": "2021-10-20T09:07:56.427148Z",
     "shell.execute_reply": "2021-10-20T09:07:56.427647Z",
     "shell.execute_reply.started": "2021-10-20T09:03:37.929002Z"
    },
    "papermill": {
     "duration": 0.053662,
     "end_time": "2021-10-20T09:07:56.427846",
     "exception": false,
     "start_time": "2021-10-20T09:07:56.374184",
     "status": "completed"
    },
    "tags": []
   },
   "outputs": [
    {
     "data": {
      "text/plain": [
       "array([15,  4, 16,  9, 14, 33,  1, 12, 17,  6, 23, 30,  7, 32, 28, 29,  8,\n",
       "       11, 37, 40, 19, 20, 21, 22,  3, 36, 10, 34, 13, 18, 39, 26, 24, 25,\n",
       "       31,  5,  0,  2, 38, 35, 27,  0])"
      ]
     },
     "execution_count": 26,
     "metadata": {},
     "output_type": "execute_result"
    }
   ],
   "source": [
    "prediction"
   ]
  },
  {
   "cell_type": "code",
   "execution_count": 27,
   "id": "periodic-poison",
   "metadata": {
    "execution": {
     "iopub.execute_input": "2021-10-20T09:07:56.515994Z",
     "iopub.status.busy": "2021-10-20T09:07:56.515205Z",
     "iopub.status.idle": "2021-10-20T09:07:56.794137Z",
     "shell.execute_reply": "2021-10-20T09:07:56.793576Z",
     "shell.execute_reply.started": "2021-10-20T09:06:04.207440Z"
    },
    "papermill": {
     "duration": 0.324892,
     "end_time": "2021-10-20T09:07:56.794292",
     "exception": false,
     "start_time": "2021-10-20T09:07:56.469400",
     "status": "completed"
    },
    "tags": []
   },
   "outputs": [
    {
     "data": {
      "text/plain": [
       "['result_columns.pkl']"
      ]
     },
     "execution_count": 27,
     "metadata": {},
     "output_type": "execute_result"
    }
   ],
   "source": [
    "import joblib\n",
    "model.save('predictor.h5')\n",
    "joblib.dump(X_test.columns.to_list(),'columns.pkl')\n",
    "joblib.dump(y_test_enc.columns.to_list(),'result_columns.pkl')"
   ]
  },
  {
   "cell_type": "code",
   "execution_count": null,
   "id": "assured-variety",
   "metadata": {
    "papermill": {
     "duration": 0.038406,
     "end_time": "2021-10-20T09:07:56.873063",
     "exception": false,
     "start_time": "2021-10-20T09:07:56.834657",
     "status": "completed"
    },
    "tags": []
   },
   "outputs": [],
   "source": []
  }
 ],
 "metadata": {
  "kernelspec": {
   "display_name": "Python 3",
   "language": "python",
   "name": "python3"
  },
  "language_info": {
   "codemirror_mode": {
    "name": "ipython",
    "version": 3
   },
   "file_extension": ".py",
   "mimetype": "text/x-python",
   "name": "python",
   "nbconvert_exporter": "python",
   "pygments_lexer": "ipython3",
   "version": "3.7.10"
  },
  "papermill": {
   "default_parameters": {},
   "duration": 23.911643,
   "end_time": "2021-10-20T09:07:59.034410",
   "environment_variables": {},
   "exception": null,
   "input_path": "__notebook__.ipynb",
   "output_path": "__notebook__.ipynb",
   "parameters": {},
   "start_time": "2021-10-20T09:07:35.122767",
   "version": "2.3.3"
  }
 },
 "nbformat": 4,
 "nbformat_minor": 5
}
